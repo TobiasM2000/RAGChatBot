{
 "cells": [
  {
   "cell_type": "markdown",
   "metadata": {},
   "source": [
    "# OpenAI Vector Embedding\n",
    "\n",
    "https://platform.openai.com/docs/guides/embeddings"
   ]
  },
  {
   "cell_type": "code",
   "execution_count": null,
   "metadata": {},
   "outputs": [],
   "source": [
    "import requests\n",
    "from dotenv import load_dotenv\n",
    "import os\n",
    "import json\n",
    "from sklearn.manifold import TSNE\n",
    "from sklearn.decomposition import PCA\n",
    "from sklearn.manifold import TSNE\n",
    "import matplotlib.pyplot as plt\n",
    "import numpy as np"
   ]
  },
  {
   "cell_type": "code",
   "execution_count": null,
   "metadata": {},
   "outputs": [],
   "source": [
    "load_dotenv()\n",
    "key = os.getenv('OPENAI_API_KEY')\n",
    "if(len(key) != 0):\n",
    "    print(\"success\")"
   ]
  },
  {
   "cell_type": "code",
   "execution_count": null,
   "metadata": {},
   "outputs": [],
   "source": [
    "\n",
    "url = 'https://api.openai.com/v1/embeddings'\n",
    "\n",
    "data = {\n",
    "    'model': 'text-embedding-3-small',\n",
    "    'input': 'Hello World!'\n",
    "}\n",
    "\n",
    "headers = {\n",
    "    'Authorization': f'Bearer {key}',\n",
    "    'Content-Type': 'application/json'\n",
    "}\n",
    "\n",
    "response = requests.post(url, json=data, headers=headers)\n",
    "print(response.text)\n"
   ]
  },
  {
   "cell_type": "code",
   "execution_count": null,
   "metadata": {},
   "outputs": [],
   "source": [
    "data = json.loads(response.text)\n",
    "first_item = data['data'][0]\n",
    "\n",
    "embedding = first_item['embedding']\n",
    "embedding\n"
   ]
  },
  {
   "cell_type": "code",
   "execution_count": null,
   "metadata": {},
   "outputs": [],
   "source": [
    "def getAllEmbeddings(sentences, key):\n",
    "    embeddings = []\n",
    "    url = 'https://api.openai.com/v1/embeddings' \n",
    "\n",
    "    headers = {\n",
    "        'Authorization': f'Bearer {key}',\n",
    "        'Content-Type': 'application/json'\n",
    "    }\n",
    "\n",
    "    for sentence in sentences:\n",
    "        data = {\n",
    "            'model': 'text-embedding-3-small',\n",
    "            'input': sentence\n",
    "        }\n",
    "\n",
    "        response = requests.post(url, json=data, headers=headers)\n",
    "        \n",
    "        if response.status_code == 200:\n",
    "            result = json.loads(response.text)\n",
    "            first_item = result['data'][0]\n",
    "            embedding = first_item['embedding']\n",
    "            embeddings.append(embedding)\n",
    "        else:\n",
    "            print(f\"Fehler bei der Anfrage für Satz: {sentence}\")\n",
    "            embeddings.append([])\n",
    "\n",
    "    return embeddings"
   ]
  },
  {
   "cell_type": "code",
   "execution_count": null,
   "metadata": {},
   "outputs": [],
   "source": [
    "def reduce_dimensions(embeddings, components=2):\n",
    "    reducer = PCA(n_components=components)\n",
    "    embeddings_array = np.array(embeddings)\n",
    "    reduced_embeddings = reducer.fit_transform(embeddings_array)\n",
    "    return reduced_embeddings"
   ]
  },
  {
   "cell_type": "code",
   "execution_count": null,
   "metadata": {},
   "outputs": [],
   "source": [
    "def plot_embeddings(reduced_embeddings, labels=None):\n",
    "    plt.figure(figsize=(10, 8))\n",
    "    x = reduced_embeddings[:, 0]\n",
    "    y = reduced_embeddings[:, 1]\n",
    "    plt.scatter(x, y, alpha=0.5)\n",
    "\n",
    "    if labels is None:\n",
    "        labels = range(len(reduced_embeddings))\n",
    "    for i, label in enumerate(labels):\n",
    "        plt.annotate(label, (x[i], y[i]), textcoords=\"offset points\", xytext=(0,10), ha='center')\n",
    "\n",
    "    plt.title('Visualisierung der 2D Embeddings')\n",
    "    plt.xlabel('Dimension 1')\n",
    "    plt.ylabel('Dimension 2')\n",
    "    plt.show()"
   ]
  },
  {
   "cell_type": "code",
   "execution_count": null,
   "metadata": {},
   "outputs": [],
   "source": [
    "sentences = [\n",
    "    \"Der Sommer ist schön\",\n",
    "    \"Fußballspielen macht Spaß\",\n",
    "    \"Eis im Sommer schmeckt am besten\",\n",
    "    \"Ferien sind das schönste\"\n",
    "]\n",
    "embeddings = getAllEmbeddings(sentences=sentences, key=key)\n",
    "reduced_embeddings = reduce_dimensions(embeddings)\n",
    "plot_embeddings(reduced_embeddings=reduced_embeddings)"
   ]
  },
  {
   "cell_type": "code",
   "execution_count": null,
   "metadata": {},
   "outputs": [],
   "source": [
    "sentences = [\n",
    "    \"Der Sommer ist schön\",\n",
    "    \"Fußballspielen macht Spaß\",\n",
    "    \"Eis im Sommer schmeckt am besten\",\n",
    "    \"Ferien sind das schönste\",\n",
    "    \"Der Erste Weltkrieg begann offiziell am 28. Juli 1914 mit der Kriegserklärung Österreich-Ungarns an Serbien\"\n",
    "]\n",
    "embeddings = getAllEmbeddings(sentences=sentences, key=key)\n",
    "reduced_embeddings = reduce_dimensions(embeddings)\n",
    "plot_embeddings(reduced_embeddings=reduced_embeddings, labels=sentences)"
   ]
  },
  {
   "cell_type": "code",
   "execution_count": null,
   "metadata": {},
   "outputs": [],
   "source": [
    "sentences = [\n",
    "    \"König\",\n",
    "    \"Königin\",\n",
    "    \"Man\",\n",
    "    \"Frau\",\n",
    "]\n",
    "embeddings = getAllEmbeddings(sentences=sentences, key=key)\n",
    "reduced_embeddings = reduce_dimensions(embeddings)\n",
    "plot_embeddings(reduced_embeddings=reduced_embeddings, labels=sentences)"
   ]
  },
  {
   "cell_type": "code",
   "execution_count": null,
   "metadata": {},
   "outputs": [],
   "source": [
    "sentences = [\n",
    "    \"König\",\n",
    "    \"Königin\",\n",
    "    \"Man\",\n",
    "    \"Frau\",\n",
    "    \"Umpalumpa\",\n",
    "    \"aoiufhaoiwfhjaipwf\",\n",
    "    \"2348562=)(§/%\"\n",
    "]\n",
    "embeddings = getAllEmbeddings(sentences=sentences, key=key)\n",
    "reduced_embeddings = reduce_dimensions(embeddings)\n",
    "plot_embeddings(reduced_embeddings=reduced_embeddings, labels=sentences)"
   ]
  },
  {
   "cell_type": "code",
   "execution_count": null,
   "metadata": {},
   "outputs": [],
   "source": []
  }
 ],
 "metadata": {
  "kernelspec": {
   "display_name": "Python 3",
   "language": "python",
   "name": "python3"
  },
  "language_info": {
   "codemirror_mode": {
    "name": "ipython",
    "version": 3
   },
   "file_extension": ".py",
   "mimetype": "text/x-python",
   "name": "python",
   "nbconvert_exporter": "python",
   "pygments_lexer": "ipython3",
   "version": "3.10.8"
  }
 },
 "nbformat": 4,
 "nbformat_minor": 2
}
